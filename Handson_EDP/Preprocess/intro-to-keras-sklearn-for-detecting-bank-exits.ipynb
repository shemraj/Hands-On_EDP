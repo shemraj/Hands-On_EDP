{
 "cells": [
  {
   "cell_type": "markdown",
   "metadata": {},
   "source": [
    "# Bank Customer Classification\n",
    "## Given a dataset consisiting of Bank Customer information, we are asked to build a classifier which will tell us if a customer will exit the bank or not."
   ]
  },
  {
   "cell_type": "code",
   "execution_count": 1,
   "metadata": {
    "_kg_hide-output": true
   },
   "outputs": [
    {
     "name": "stdout",
     "output_type": "stream",
     "text": [
      "Collecting scikit-learn==0.22.0\r\n",
      "\u001b[?25l  Downloading https://files.pythonhosted.org/packages/2e/d0/860c4f6a7027e00acff373d9f5327f4ae3ed5872234b3cbdd7bcb52e5eff/scikit_learn-0.22-cp36-cp36m-manylinux1_x86_64.whl (7.0MB)\r\n",
      "\u001b[K    100% |████████████████████████████████| 7.0MB 5.0MB/s \r\n",
      "\u001b[?25hRequirement already satisfied: numpy>=1.11.0 in /opt/conda/lib/python3.6/site-packages (from scikit-learn==0.22.0) (1.16.3)\r\n",
      "Requirement already satisfied: scipy>=0.17.0 in /opt/conda/lib/python3.6/site-packages (from scikit-learn==0.22.0) (1.1.0)\r\n",
      "Requirement already satisfied: joblib>=0.11 in /opt/conda/lib/python3.6/site-packages (from scikit-learn==0.22.0) (0.13.2)\r\n",
      "\u001b[31mlime 0.1.1.33 has requirement matplotlib==2.1.0, but you'll have matplotlib 3.0.3 which is incompatible.\u001b[0m\r\n",
      "\u001b[31mkmeans-smote 0.1.2 has requirement imbalanced-learn<0.5,>=0.4.0, but you'll have imbalanced-learn 0.5.0.dev0 which is incompatible.\u001b[0m\r\n",
      "\u001b[31mkmeans-smote 0.1.2 has requirement numpy<1.16,>=1.13, but you'll have numpy 1.16.3 which is incompatible.\u001b[0m\r\n",
      "\u001b[31mkmeans-smote 0.1.2 has requirement scikit-learn<0.21,>=0.19.0, but you'll have scikit-learn 0.22 which is incompatible.\u001b[0m\r\n",
      "Installing collected packages: scikit-learn\r\n",
      "  Found existing installation: scikit-learn 0.20.3\r\n",
      "    Uninstalling scikit-learn-0.20.3:\r\n",
      "      Successfully uninstalled scikit-learn-0.20.3\r\n",
      "Successfully installed scikit-learn-0.22\r\n",
      "\u001b[33mYou are using pip version 19.0.3, however version 19.3.1 is available.\r\n",
      "You should consider upgrading via the 'pip install --upgrade pip' command.\u001b[0m\r\n"
     ]
    }
   ],
   "source": [
    "!pip install scikit-learn==0.22.0"
   ]
  },
  {
   "cell_type": "code",
   "execution_count": 2,
   "metadata": {
    "_cell_guid": "b1076dfc-b9ad-4769-8c92-a6c4dae69d19",
    "_uuid": "8f2839f25d086af736a60e9eeb907d3b93b6e0e5"
   },
   "outputs": [
    {
     "name": "stdout",
     "output_type": "stream",
     "text": [
      "['Churn_Modelling.csv']\n"
     ]
    }
   ],
   "source": [
    "import numpy as np\n",
    "import matplotlib.pyplot as plt\n",
    "import pandas as pd\n",
    "import seaborn as sns\n",
    "sns.set()\n",
    "\n",
    "import os\n",
    "print(os.listdir(\"../input\"))"
   ]
  },
  {
   "cell_type": "markdown",
   "metadata": {
    "_cell_guid": "191e6ef1-260f-4f3e-822c-92397b6cc5df",
    "_uuid": "a91e1f7964773655b9aaa13dd53676680ccfb47d"
   },
   "source": [
    "# Data Preprocessing "
   ]
  },
  {
   "cell_type": "markdown",
   "metadata": {},
   "source": [
    "### In this dataset, we have to consider which of the factors may play a role in someone exiting a bank. To do that we must look at all  the column and infer whether it will matter in classifying a new customer or not.  The information about a customer is entailed in columns 0 through 12 (RowNumber-EstimatedSalary), while the output (whether the customer exited or not) is stored in the 13th row (Exited). \n",
    "\n",
    "For as much as we care, neither the customer ID, nor the surname should matter in classification. \n",
    "Therefore, we will use columns 3 (CreditScore) inclusive through the 13th column (exclusive).\n"
   ]
  },
  {
   "cell_type": "code",
   "execution_count": 3,
   "metadata": {
    "_cell_guid": "79c7e3d0-c299-4dcb-8224-4455121ee9b0",
    "_uuid": "d629ff2d2480ee46fbb7e2d37f6b5fab8052498a"
   },
   "outputs": [
    {
     "data": {
      "text/html": [
       "<div>\n",
       "<style scoped>\n",
       "    .dataframe tbody tr th:only-of-type {\n",
       "        vertical-align: middle;\n",
       "    }\n",
       "\n",
       "    .dataframe tbody tr th {\n",
       "        vertical-align: top;\n",
       "    }\n",
       "\n",
       "    .dataframe thead th {\n",
       "        text-align: right;\n",
       "    }\n",
       "</style>\n",
       "<table border=\"1\" class=\"dataframe\">\n",
       "  <thead>\n",
       "    <tr style=\"text-align: right;\">\n",
       "      <th></th>\n",
       "      <th>CustomerId</th>\n",
       "      <th>Surname</th>\n",
       "      <th>CreditScore</th>\n",
       "      <th>Geography</th>\n",
       "      <th>Gender</th>\n",
       "      <th>Age</th>\n",
       "      <th>Tenure</th>\n",
       "      <th>Balance</th>\n",
       "      <th>NumOfProducts</th>\n",
       "      <th>HasCrCard</th>\n",
       "      <th>IsActiveMember</th>\n",
       "      <th>EstimatedSalary</th>\n",
       "      <th>Exited</th>\n",
       "    </tr>\n",
       "    <tr>\n",
       "      <th>RowNumber</th>\n",
       "      <th></th>\n",
       "      <th></th>\n",
       "      <th></th>\n",
       "      <th></th>\n",
       "      <th></th>\n",
       "      <th></th>\n",
       "      <th></th>\n",
       "      <th></th>\n",
       "      <th></th>\n",
       "      <th></th>\n",
       "      <th></th>\n",
       "      <th></th>\n",
       "      <th></th>\n",
       "    </tr>\n",
       "  </thead>\n",
       "  <tbody>\n",
       "    <tr>\n",
       "      <th>1</th>\n",
       "      <td>15634602</td>\n",
       "      <td>Hargrave</td>\n",
       "      <td>619</td>\n",
       "      <td>France</td>\n",
       "      <td>Female</td>\n",
       "      <td>42</td>\n",
       "      <td>2</td>\n",
       "      <td>0.00</td>\n",
       "      <td>1</td>\n",
       "      <td>1</td>\n",
       "      <td>1</td>\n",
       "      <td>101348.88</td>\n",
       "      <td>1</td>\n",
       "    </tr>\n",
       "    <tr>\n",
       "      <th>2</th>\n",
       "      <td>15647311</td>\n",
       "      <td>Hill</td>\n",
       "      <td>608</td>\n",
       "      <td>Spain</td>\n",
       "      <td>Female</td>\n",
       "      <td>41</td>\n",
       "      <td>1</td>\n",
       "      <td>83807.86</td>\n",
       "      <td>1</td>\n",
       "      <td>0</td>\n",
       "      <td>1</td>\n",
       "      <td>112542.58</td>\n",
       "      <td>0</td>\n",
       "    </tr>\n",
       "    <tr>\n",
       "      <th>3</th>\n",
       "      <td>15619304</td>\n",
       "      <td>Onio</td>\n",
       "      <td>502</td>\n",
       "      <td>France</td>\n",
       "      <td>Female</td>\n",
       "      <td>42</td>\n",
       "      <td>8</td>\n",
       "      <td>159660.80</td>\n",
       "      <td>3</td>\n",
       "      <td>1</td>\n",
       "      <td>0</td>\n",
       "      <td>113931.57</td>\n",
       "      <td>1</td>\n",
       "    </tr>\n",
       "    <tr>\n",
       "      <th>4</th>\n",
       "      <td>15701354</td>\n",
       "      <td>Boni</td>\n",
       "      <td>699</td>\n",
       "      <td>France</td>\n",
       "      <td>Female</td>\n",
       "      <td>39</td>\n",
       "      <td>1</td>\n",
       "      <td>0.00</td>\n",
       "      <td>2</td>\n",
       "      <td>0</td>\n",
       "      <td>0</td>\n",
       "      <td>93826.63</td>\n",
       "      <td>0</td>\n",
       "    </tr>\n",
       "    <tr>\n",
       "      <th>5</th>\n",
       "      <td>15737888</td>\n",
       "      <td>Mitchell</td>\n",
       "      <td>850</td>\n",
       "      <td>Spain</td>\n",
       "      <td>Female</td>\n",
       "      <td>43</td>\n",
       "      <td>2</td>\n",
       "      <td>125510.82</td>\n",
       "      <td>1</td>\n",
       "      <td>1</td>\n",
       "      <td>1</td>\n",
       "      <td>79084.10</td>\n",
       "      <td>0</td>\n",
       "    </tr>\n",
       "  </tbody>\n",
       "</table>\n",
       "</div>"
      ],
      "text/plain": [
       "           CustomerId   Surname  ...    EstimatedSalary Exited\n",
       "RowNumber                        ...                          \n",
       "1            15634602  Hargrave  ...          101348.88      1\n",
       "2            15647311      Hill  ...          112542.58      0\n",
       "3            15619304      Onio  ...          113931.57      1\n",
       "4            15701354      Boni  ...           93826.63      0\n",
       "5            15737888  Mitchell  ...           79084.10      0\n",
       "\n",
       "[5 rows x 13 columns]"
      ]
     },
     "execution_count": 3,
     "metadata": {},
     "output_type": "execute_result"
    }
   ],
   "source": [
    "#importing the dataset\n",
    "dataset = pd.read_csv('../input/Churn_Modelling.csv', index_col='RowNumber')\n",
    "dataset.head()"
   ]
  },
  {
   "cell_type": "code",
   "execution_count": 4,
   "metadata": {},
   "outputs": [
    {
     "name": "stdout",
     "output_type": "stream",
     "text": [
      "All columns: ['CustomerId', 'Surname', 'CreditScore', 'Geography', 'Gender', 'Age', 'Tenure', 'Balance', 'NumOfProducts', 'HasCrCard', 'IsActiveMember', 'EstimatedSalary', 'Exited']\n",
      "\n",
      "X values: ['CreditScore', 'Geography', 'Gender', 'Age', 'Tenure', 'Balance', 'NumOfProducts', 'HasCrCard', 'IsActiveMember', 'EstimatedSalary']\n",
      "\n",
      "y values: ['Exited']\n"
     ]
    }
   ],
   "source": [
    "X_columns = dataset.columns.tolist()[2:12]\n",
    "y_columns = dataset.columns.tolist()[-1:]\n",
    "print(f'All columns: {dataset.columns.tolist()}')\n",
    "print()\n",
    "print(f'X values: {X_columns}')\n",
    "print()\n",
    "print(f'y values: {y_columns}')"
   ]
  },
  {
   "cell_type": "code",
   "execution_count": 5,
   "metadata": {},
   "outputs": [],
   "source": [
    "X = dataset[X_columns].values # Credit Score through Estimated Salary\n",
    "y = dataset[y_columns].values # Exited"
   ]
  },
  {
   "cell_type": "code",
   "execution_count": 6,
   "metadata": {
    "_cell_guid": "4a8358b6-15f3-447a-b7ca-84b1260be431",
    "_uuid": "6ead7a5a9bd53033a6e2d72ee0d04c102ac62547"
   },
   "outputs": [
    {
     "name": "stdout",
     "output_type": "stream",
     "text": [
      "['France' 'Spain' 'France' 'France' 'Spain' 'Spain' 'France' 'Germany'] ... will now become: \n",
      "[0 2 0 0 2 2 0 1]\n"
     ]
    }
   ],
   "source": [
    "# Encoding categorical (string based) data. Country: there are 3 options: France, Spain and Germany\n",
    "# This will convert those strings into scalar values for analysis\n",
    "print(X[:8,1], '... will now become: ')\n",
    "from sklearn.preprocessing import LabelEncoder\n",
    "label_X_country_encoder = LabelEncoder()\n",
    "X[:,1] = label_X_country_encoder.fit_transform(X[:,1])\n",
    "print(X[:8,1])"
   ]
  },
  {
   "cell_type": "code",
   "execution_count": 7,
   "metadata": {
    "_cell_guid": "50bb2761-7b6f-4612-978b-250bc52a7707",
    "_uuid": "faf9d15f5568ebbaf1473a5341a7b38251d314c7"
   },
   "outputs": [
    {
     "name": "stdout",
     "output_type": "stream",
     "text": [
      "['Female' 'Female' 'Female' 'Female' 'Female' 'Male'] ... will now become: \n",
      "[0 0 0 0 0 1]\n"
     ]
    }
   ],
   "source": [
    "# We will do the same thing for gender. this will be binary in this dataset\n",
    "print(X[:6,2], '... will now become: ')\n",
    "from sklearn.preprocessing import LabelEncoder\n",
    "label_X_gender_encoder = LabelEncoder()\n",
    "X[:,2] = label_X_gender_encoder.fit_transform(X[:,2])\n",
    "print(X[:6,2])"
   ]
  },
  {
   "cell_type": "markdown",
   "metadata": {
    "_cell_guid": "6958b07a-5e29-403d-9d60-c08d97e05a51",
    "_uuid": "bb22f8944d080dcbd92a885f7ce59803bc16f61e"
   },
   "source": [
    "The Problem here is that we are treating the countries as one variable with ordinal values (0 < 1 <  2). Therefore, one way to get rid of that problem is to split the countries into respective dimensions. that is,\n",
    "\n",
    "| Country |  -> | Country|-> |Spain|France|Germany|\n",
    "|------|      |------|  |------|    |------|    |------|\n",
    "|   Spain |   -> |0| -> |1|0|0|\n",
    "|   France | -> |1| -> |0|1|0|\n",
    "|   France | ->  |1| -> |0|1|0|\n",
    "|   Germany | -> |2| -> |0|0|1|"
   ]
  },
  {
   "cell_type": "markdown",
   "metadata": {
    "_cell_guid": "6f5ab21e-bc4c-4d23-8124-b7fbde15295a",
    "_uuid": "134720c31d216016bb6093571ca1cf08e49f0014"
   },
   "source": [
    "You can now see that the first three columns represent the three countries that constituted the \"country\" category. We can now observe that  we essentially only need two columns: a 0 on two countries means that the country has to be the one variable which wasn't included. This will save us from the problem of using too many dimensions.\n",
    "\n",
    "|Spain|France|Germany|-> |France|Germany|\n",
    " |------|    |------|    |------|     |------|     |------|\n",
    " |1|0|0|-> |0|0|\n",
    "|0|1|0|-> |1|0|\n",
    "|0|1|0|-> |1|0|\n",
    "|0|0|1|-> |0|1|\n",
    "\n",
    "We have achieved this using the `drop='first'` option in the OneHotEncoder"
   ]
  },
  {
   "cell_type": "markdown",
   "metadata": {
    "_cell_guid": "19c34bde-4901-4116-81b5-0b2699cc8edc",
    "_uuid": "baee254e5d7c52966a84ad53aa890b1b0c548436"
   },
   "source": [
    "Feature scaling is a method used to standardize the range of independent variables or features of data. It is basically scaling all the dimensions to be even so that one independent variable does not dominate another. For example, bank account balance ranges from millions to 0, whereas gender is either 0 or 1. If one of the features has a broad range of values, the distance will be governed by this particular feature. Therefore, the range of all features should be normalized so that each feature contributes approximately proportionately to the final distance."
   ]
  },
  {
   "cell_type": "code",
   "execution_count": 8,
   "metadata": {},
   "outputs": [],
   "source": [
    "from sklearn.preprocessing import StandardScaler, OneHotEncoder\n",
    "from sklearn.compose import ColumnTransformer\n",
    "from sklearn.pipeline import Pipeline\n",
    "\n",
    "\n",
    "pipeline = Pipeline(\n",
    "    [('Categorizer', ColumnTransformer(\n",
    "         [ # Gender\n",
    "          (\"Gender Label encoder\", OneHotEncoder(categories='auto', drop='first'), [2]),\n",
    "           # Geography\n",
    "          (\"Geography One Hot\", OneHotEncoder(categories='auto', drop='first'), [1])\n",
    "         ], remainder='passthrough', n_jobs=1)),\n",
    "     # Standard Scaler for the classifier\n",
    "    ('Normalizer', StandardScaler())\n",
    "    ])"
   ]
  },
  {
   "cell_type": "code",
   "execution_count": 9,
   "metadata": {
    "_cell_guid": "7919a746-8eb9-4d5f-967f-d3e513320a93",
    "_uuid": "9334654d846ed1d7c86b17c5cda8fd43ba193a62"
   },
   "outputs": [],
   "source": [
    "X = pipeline.fit_transform(X)"
   ]
  },
  {
   "cell_type": "code",
   "execution_count": 10,
   "metadata": {
    "_cell_guid": "94dc69ae-e276-4ab8-9d42-89360e0f7ebb",
    "_uuid": "b2608c0cb6e23abc91618d95ed9a06c1c0195c08"
   },
   "outputs": [],
   "source": [
    "# Splitting the dataset into the Training and Testing set.\n",
    "from sklearn.model_selection import train_test_split\n",
    "X_train, X_test, y_train, y_test = train_test_split(X,y, test_size = 0.2, random_state = 0)"
   ]
  },
  {
   "cell_type": "code",
   "execution_count": 11,
   "metadata": {
    "_cell_guid": "a96ac596-f07b-451c-a7aa-f98dc29bba81",
    "_uuid": "00892464955a6ad79489335772ae7fbe2471ac2c"
   },
   "outputs": [
    {
     "name": "stdout",
     "output_type": "stream",
     "text": [
      "training shapes: (8000, 11), (8000, 1)\n",
      "testing shapes: (2000, 11), (2000, 1)\n"
     ]
    }
   ],
   "source": [
    "print(f'training shapes: {X_train.shape}, {y_train.shape}')\n",
    "print(f'testing shapes: {X_test.shape}, {y_test.shape}')"
   ]
  },
  {
   "cell_type": "markdown",
   "metadata": {
    "_cell_guid": "3aab87d5-3ff3-4d4e-8a32-b7aa25f68a8f",
    "_uuid": "b3fa3ccbeac661426e3d06ed7dde162e4c33a5b5"
   },
   "source": [
    "## END OF PREPROCESSING"
   ]
  },
  {
   "cell_type": "markdown",
   "metadata": {
    "_cell_guid": "f8496b20-efff-48a4-8649-e6b60ac2e87b",
    "_uuid": "219c2ec9230ef437b87cd0ec5ffe5eece2843874"
   },
   "source": [
    "## Making the NN"
   ]
  },
  {
   "cell_type": "code",
   "execution_count": 12,
   "metadata": {
    "_cell_guid": "9c95c5f3-117b-47ad-86e2-327cebb8db42",
    "_uuid": "7cd3ececc193a95174a8d5efff01468336951441"
   },
   "outputs": [
    {
     "name": "stderr",
     "output_type": "stream",
     "text": [
      "Using TensorFlow backend.\n"
     ]
    }
   ],
   "source": [
    "from keras.models import Sequential\n",
    "from keras.layers import Dense, Dropout"
   ]
  },
  {
   "cell_type": "code",
   "execution_count": 13,
   "metadata": {
    "_cell_guid": "477c2dd7-8267-4c0d-98d0-65483cfc47c0",
    "_uuid": "842944c858018351df27d454c03fe3bc3c3498c7"
   },
   "outputs": [],
   "source": [
    "# Initializing the ANN\n",
    "classifier = Sequential()"
   ]
  },
  {
   "cell_type": "markdown",
   "metadata": {
    "_cell_guid": "9a0c46ca-2e44-45bc-a48c-870f6aad0d0e",
    "_uuid": "a9c849675833548a819cf26298658158e844de59"
   },
   "source": [
    "A hurestic tip is that the amount of nodes (dimensions) in your hidden layer should be the average of your input and output layers, which means that since we have 11 dimensions (representing **Independent variables** Note: Countries still compose only  **one** dimension) and we are looking for a binary output, we calculate this to be $(11+1)\\div 2 = 6 $.\n",
    "\n",
    "#### The breakdown of the inputs for the first layer is as follows:\n",
    "\n",
    "`units`: `6` nodes (number of nodes in hidden layer). Can think of this as number of nodes are in the next layer.\n",
    "\n",
    "`activiation`: `relu` becasue we are in an input layer. uses the ReLu activation function for the layer. This is equivalent to $max(0, W \\times x^T + b)$\n",
    "\n",
    "`input_dim`: `11` because we span 11 dimensions in our input layer. This is needed for the first added layer. The subsequent layers's input dimensions can be inferred using the previously added layer's output dimension. The next hidden layer will know what to expect.\n",
    "\n",
    "\n"
   ]
  },
  {
   "cell_type": "code",
   "execution_count": 14,
   "metadata": {
    "_cell_guid": "74cbe4d8-517a-488d-92d0-71905549a062",
    "_uuid": "d714ebc59f601dd833a0eaafc6ae9a81b9f9f2d8"
   },
   "outputs": [
    {
     "name": "stdout",
     "output_type": "stream",
     "text": [
      "WARNING:tensorflow:From /opt/conda/lib/python3.6/site-packages/tensorflow/python/framework/op_def_library.py:263: colocate_with (from tensorflow.python.framework.ops) is deprecated and will be removed in a future version.\n",
      "Instructions for updating:\n",
      "Colocations handled automatically by placer.\n",
      "WARNING:tensorflow:From /opt/conda/lib/python3.6/site-packages/keras/backend/tensorflow_backend.py:3445: calling dropout (from tensorflow.python.ops.nn_ops) with keep_prob is deprecated and will be removed in a future version.\n",
      "Instructions for updating:\n",
      "Please use `rate` instead of `keep_prob`. Rate should be set to `rate = 1 - keep_prob`.\n"
     ]
    }
   ],
   "source": [
    "# This adds the input layer (by specifying input dimension) AND the first hidden layer (units)\n",
    "classifier.add(Dense(6, activation = 'relu', input_shape = (X_train.shape[1], )))\n",
    "classifier.add(Dropout(rate=0.1)) "
   ]
  },
  {
   "cell_type": "markdown",
   "metadata": {
    "_cell_guid": "0c30399e-24f6-44ac-b468-13ad68813a03",
    "_uuid": "47582c1198896d9c6276254440869f0ff685caa9"
   },
   "source": [
    "### We are going to add another layer to this model because we want to implement Deep Learning, which is an artificial Neural network with many layers.\n",
    "We will make our second hidden layer also have 6 nodes, just playing with the same arithmetic we used to determine the dimensions of the first hidden layer (average of your input and output layers) $(11+1)\\div 2 = 6 $."
   ]
  },
  {
   "cell_type": "code",
   "execution_count": 15,
   "metadata": {
    "_cell_guid": "4b2e774c-dfae-425d-9814-791ba9385f54",
    "_uuid": "4ee4b599740bccfd59166e6589f471c267bd3ba6"
   },
   "outputs": [],
   "source": [
    "# Adding the second hidden layer\n",
    "# Notice that we do not need to specify input dim. \n",
    "classifier.add(Dense(6, activation = 'relu')) \n",
    "classifier.add(Dropout(rate=0.1)) "
   ]
  },
  {
   "cell_type": "markdown",
   "metadata": {
    "_cell_guid": "dcfa3079-f795-477b-a21c-e5cb3b6f0aef",
    "_uuid": "9f0c01f7d7019c1a73cb3cfe05dc03104b07fed7"
   },
   "source": [
    "### Adding the output layer\n",
    "#### The breakdown of the inputs for the output layer is as follows:\n",
    "\n",
    "*activiation*: **sigmoid** becasue we are in an output layer. uses the Sigmoid activation function for $\\phi$. This is used instead of the ReLu function becasue it generates probabilities for the outcome. We want the probability that each customer leaves the bank.  \n",
    "\n",
    "`units`: `6` nodes (number of nodes in hidden layer). Can think of this as number of nodes are in the next layer.\n",
    "\n",
    "`input_dim`: `11` because we span 11 dimensions in our input layer. This is needed for the first added layer. The subsequent layers's input dimensions can be inferred using the previously added layer's output dimension. The next hidden layer will know what to expect.\n"
   ]
  },
  {
   "cell_type": "code",
   "execution_count": 16,
   "metadata": {
    "_cell_guid": "85159374-4412-4d00-8120-04e2d3797d18",
    "_uuid": "5e967723561562d1b402e531c51a9c505b3872cc"
   },
   "outputs": [],
   "source": [
    "# Adding the output layer\n",
    "# Notice that we do not need to specify input dim. \n",
    "# we have an output of 1 node, which is the the desired dimensions of our output (stay with the bank or not)\n",
    "# We use the sigmoid because we want probability outcomes\n",
    "classifier.add(Dense(1, activation = 'sigmoid')) "
   ]
  },
  {
   "cell_type": "markdown",
   "metadata": {
    "_cell_guid": "aeca69c0-472e-4344-8523-d5c5a4893650",
    "_uuid": "313cad84163d80c20e00eaac2d493c8eb50dab30"
   },
   "source": [
    "\n",
    "### If we want more than two categories, then we will need to change \n",
    "\n",
    " 1) the *units* parameter to match the desired category count\n",
    " \n",
    " 2) the *activation* field to **softmax**.  Basically a sigmoid function but applied to a dependent variable that has more than 2 categories."
   ]
  },
  {
   "cell_type": "code",
   "execution_count": 17,
   "metadata": {},
   "outputs": [
    {
     "name": "stdout",
     "output_type": "stream",
     "text": [
      "_________________________________________________________________\n",
      "Layer (type)                 Output Shape              Param #   \n",
      "=================================================================\n",
      "dense_1 (Dense)              (None, 6)                 72        \n",
      "_________________________________________________________________\n",
      "dropout_1 (Dropout)          (None, 6)                 0         \n",
      "_________________________________________________________________\n",
      "dense_2 (Dense)              (None, 6)                 42        \n",
      "_________________________________________________________________\n",
      "dropout_2 (Dropout)          (None, 6)                 0         \n",
      "_________________________________________________________________\n",
      "dense_3 (Dense)              (None, 1)                 7         \n",
      "=================================================================\n",
      "Total params: 121\n",
      "Trainable params: 121\n",
      "Non-trainable params: 0\n",
      "_________________________________________________________________\n"
     ]
    }
   ],
   "source": [
    "classifier.summary()"
   ]
  },
  {
   "cell_type": "markdown",
   "metadata": {
    "_cell_guid": "ba09a55b-572d-442c-9733-724600df8f9b",
    "_uuid": "f220ac215b66c3f765d05ee1d1ac1ba51854bd5e"
   },
   "source": [
    "## Compiling the Neural Network\n",
    "Basically applying Stochastic Gradient descent on the whole Neural Network. We are Tuning the individual weights on each neuron.\n",
    "\n",
    "#### The breakdown of the inputs for compiling is as follows:\n",
    "\n",
    "`optimizer`: `adam` The algorithm we want to use to find the optimal set of weights in the neural networks.  Adam is a very efficeint variation of Stochastic Gradient Descent.\n",
    "\n",
    "`loss`: `binary_crossentropy` This is the loss function used within adam. This should be the logarthmic loss. If our dependent (output variable) is `Binary`, it is `binary_crossentropy`. If `Categorical`, then it is called `categorical_crossentropy`\n",
    "\n",
    "`metrics`: `[accuracy]` The accuracy metrics which will be evaluated(minimized) by the model. Used as accuracy criteria to imporve model performance. "
   ]
  },
  {
   "cell_type": "code",
   "execution_count": 18,
   "metadata": {
    "_cell_guid": "269e47c9-d147-4013-b704-3f74fd344315",
    "_uuid": "827b3e0bb61ebad44f545d74b8bc021bbca6f1b2"
   },
   "outputs": [],
   "source": [
    "classifier.compile(optimizer='adam', loss = 'binary_crossentropy', metrics=['accuracy'])"
   ]
  },
  {
   "cell_type": "markdown",
   "metadata": {
    "_cell_guid": "db47d3e6-fd4f-461d-aa7a-b743c6fcf260",
    "_uuid": "d303bdd6aeb12b5ef9bd58d7a695ecfbc66bb131"
   },
   "source": [
    "## Fitting the Neural Network\n",
    "This is where we will be fitting the NN to our training set.\n",
    "\n",
    "#### The breakdown of the inputs for compiling is as follows:\n",
    "\n",
    "`X_train` The independent variable portion of the data which needs to be fitted with the model.\n",
    "\n",
    "`Y_train` The output portion of the data which the model needs to produce after fitting.\n",
    "\n",
    "`batch_size`:  How often we want to back-propogate the error values so that individual node weights can be adjusted. \n",
    "\n",
    "`epochs`: The number of times we want to run the entire test data over again to tune the weights. This is like the fuel of the algorithm. \n",
    "\n",
    "\n",
    "`validation_split`: `0.2` The fraction of data to use for validation data. \n"
   ]
  },
  {
   "cell_type": "code",
   "execution_count": 19,
   "metadata": {
    "_cell_guid": "5ab480db-3223-4577-87d9-27ab42572679",
    "_uuid": "2373dff1ff229dbe72f41418035daf29049804df"
   },
   "outputs": [
    {
     "name": "stdout",
     "output_type": "stream",
     "text": [
      "WARNING:tensorflow:From /opt/conda/lib/python3.6/site-packages/tensorflow/python/ops/math_ops.py:3066: to_int32 (from tensorflow.python.ops.math_ops) is deprecated and will be removed in a future version.\n",
      "Instructions for updating:\n",
      "Use tf.cast instead.\n",
      "Train on 7200 samples, validate on 800 samples\n",
      "Epoch 1/200\n",
      " - 1s - loss: 0.5674 - acc: 0.7426 - val_loss: 0.4948 - val_acc: 0.7925\n",
      "Epoch 2/200\n",
      " - 0s - loss: 0.4950 - acc: 0.7931 - val_loss: 0.4631 - val_acc: 0.7950\n",
      "Epoch 3/200\n",
      " - 0s - loss: 0.4710 - acc: 0.7964 - val_loss: 0.4425 - val_acc: 0.7937\n",
      "Epoch 4/200\n",
      " - 0s - loss: 0.4528 - acc: 0.7989 - val_loss: 0.4284 - val_acc: 0.7975\n",
      "Epoch 5/200\n",
      " - 0s - loss: 0.4440 - acc: 0.8038 - val_loss: 0.4184 - val_acc: 0.8000\n",
      "Epoch 6/200\n",
      " - 0s - loss: 0.4376 - acc: 0.8058 - val_loss: 0.4111 - val_acc: 0.8075\n",
      "Epoch 7/200\n",
      " - 0s - loss: 0.4278 - acc: 0.8107 - val_loss: 0.4020 - val_acc: 0.8075\n",
      "Epoch 8/200\n",
      " - 0s - loss: 0.4173 - acc: 0.8137 - val_loss: 0.3942 - val_acc: 0.8075\n",
      "Epoch 9/200\n",
      " - 0s - loss: 0.4084 - acc: 0.8149 - val_loss: 0.3880 - val_acc: 0.8087\n",
      "Epoch 10/200\n",
      " - 0s - loss: 0.4089 - acc: 0.8151 - val_loss: 0.3841 - val_acc: 0.8113\n",
      "Epoch 11/200\n",
      " - 0s - loss: 0.4078 - acc: 0.8157 - val_loss: 0.3793 - val_acc: 0.8100\n",
      "Epoch 12/200\n",
      " - 0s - loss: 0.4009 - acc: 0.8178 - val_loss: 0.3762 - val_acc: 0.8113\n",
      "Epoch 13/200\n",
      " - 0s - loss: 0.4011 - acc: 0.8161 - val_loss: 0.3750 - val_acc: 0.8113\n",
      "Epoch 14/200\n",
      " - 0s - loss: 0.3975 - acc: 0.8179 - val_loss: 0.3739 - val_acc: 0.8113\n",
      "Epoch 15/200\n",
      " - 0s - loss: 0.3945 - acc: 0.8181 - val_loss: 0.3723 - val_acc: 0.8113\n",
      "Epoch 16/200\n",
      " - 0s - loss: 0.3943 - acc: 0.8181 - val_loss: 0.3719 - val_acc: 0.8113\n",
      "Epoch 17/200\n",
      " - 0s - loss: 0.3976 - acc: 0.8172 - val_loss: 0.3706 - val_acc: 0.8113\n",
      "Epoch 18/200\n",
      " - 0s - loss: 0.3905 - acc: 0.8176 - val_loss: 0.3693 - val_acc: 0.8113\n",
      "Epoch 19/200\n",
      " - 0s - loss: 0.3915 - acc: 0.8192 - val_loss: 0.3691 - val_acc: 0.8113\n",
      "Epoch 20/200\n",
      " - 0s - loss: 0.3904 - acc: 0.8185 - val_loss: 0.3680 - val_acc: 0.8113\n",
      "Epoch 21/200\n",
      " - 0s - loss: 0.3896 - acc: 0.8199 - val_loss: 0.3668 - val_acc: 0.8113\n",
      "Epoch 22/200\n",
      " - 0s - loss: 0.3893 - acc: 0.8197 - val_loss: 0.3655 - val_acc: 0.8113\n",
      "Epoch 23/200\n",
      " - 0s - loss: 0.3869 - acc: 0.8193 - val_loss: 0.3644 - val_acc: 0.8113\n",
      "Epoch 24/200\n",
      " - 0s - loss: 0.3915 - acc: 0.8187 - val_loss: 0.3634 - val_acc: 0.8113\n",
      "Epoch 25/200\n",
      " - 0s - loss: 0.3880 - acc: 0.8181 - val_loss: 0.3625 - val_acc: 0.8113\n",
      "Epoch 26/200\n",
      " - 0s - loss: 0.3933 - acc: 0.8185 - val_loss: 0.3621 - val_acc: 0.8113\n",
      "Epoch 27/200\n",
      " - 0s - loss: 0.3867 - acc: 0.8185 - val_loss: 0.3618 - val_acc: 0.8113\n",
      "Epoch 28/200\n",
      " - 0s - loss: 0.3886 - acc: 0.8186 - val_loss: 0.3607 - val_acc: 0.8113\n",
      "Epoch 29/200\n",
      " - 0s - loss: 0.3855 - acc: 0.8193 - val_loss: 0.3602 - val_acc: 0.8125\n",
      "Epoch 30/200\n",
      " - 0s - loss: 0.3868 - acc: 0.8269 - val_loss: 0.3582 - val_acc: 0.8512\n",
      "Epoch 31/200\n",
      " - 0s - loss: 0.3858 - acc: 0.8419 - val_loss: 0.3558 - val_acc: 0.8512\n",
      "Epoch 32/200\n",
      " - 0s - loss: 0.3837 - acc: 0.8424 - val_loss: 0.3553 - val_acc: 0.8525\n",
      "Epoch 33/200\n",
      " - 0s - loss: 0.3879 - acc: 0.8408 - val_loss: 0.3539 - val_acc: 0.8588\n",
      "Epoch 34/200\n",
      " - 0s - loss: 0.3798 - acc: 0.8447 - val_loss: 0.3529 - val_acc: 0.8550\n",
      "Epoch 35/200\n",
      " - 0s - loss: 0.3828 - acc: 0.8440 - val_loss: 0.3524 - val_acc: 0.8600\n",
      "Epoch 36/200\n",
      " - 0s - loss: 0.3853 - acc: 0.8443 - val_loss: 0.3525 - val_acc: 0.8588\n",
      "Epoch 37/200\n",
      " - 0s - loss: 0.3816 - acc: 0.8429 - val_loss: 0.3523 - val_acc: 0.8612\n",
      "Epoch 38/200\n",
      " - 0s - loss: 0.3860 - acc: 0.8419 - val_loss: 0.3515 - val_acc: 0.8600\n",
      "Epoch 39/200\n",
      " - 0s - loss: 0.3828 - acc: 0.8428 - val_loss: 0.3510 - val_acc: 0.8600\n",
      "Epoch 40/200\n",
      " - 0s - loss: 0.3830 - acc: 0.8439 - val_loss: 0.3509 - val_acc: 0.8588\n",
      "Epoch 41/200\n",
      " - 0s - loss: 0.3854 - acc: 0.8478 - val_loss: 0.3507 - val_acc: 0.8600\n",
      "Epoch 42/200\n",
      " - 0s - loss: 0.3804 - acc: 0.8440 - val_loss: 0.3502 - val_acc: 0.8588\n",
      "Epoch 43/200\n",
      " - 0s - loss: 0.3802 - acc: 0.8449 - val_loss: 0.3490 - val_acc: 0.8588\n",
      "Epoch 44/200\n",
      " - 0s - loss: 0.3845 - acc: 0.8422 - val_loss: 0.3502 - val_acc: 0.8588\n",
      "Epoch 45/200\n",
      " - 0s - loss: 0.3834 - acc: 0.8460 - val_loss: 0.3490 - val_acc: 0.8588\n",
      "Epoch 46/200\n",
      " - 0s - loss: 0.3847 - acc: 0.8439 - val_loss: 0.3490 - val_acc: 0.8600\n",
      "Epoch 47/200\n",
      " - 0s - loss: 0.3842 - acc: 0.8461 - val_loss: 0.3497 - val_acc: 0.8600\n",
      "Epoch 48/200\n",
      " - 0s - loss: 0.3798 - acc: 0.8462 - val_loss: 0.3497 - val_acc: 0.8600\n",
      "Epoch 49/200\n",
      " - 0s - loss: 0.3812 - acc: 0.8421 - val_loss: 0.3493 - val_acc: 0.8612\n",
      "Epoch 50/200\n",
      " - 0s - loss: 0.3784 - acc: 0.8486 - val_loss: 0.3481 - val_acc: 0.8588\n",
      "Epoch 51/200\n",
      " - 0s - loss: 0.3840 - acc: 0.8432 - val_loss: 0.3479 - val_acc: 0.8625\n",
      "Epoch 52/200\n",
      " - 0s - loss: 0.3794 - acc: 0.8444 - val_loss: 0.3477 - val_acc: 0.8638\n",
      "Epoch 53/200\n",
      " - 0s - loss: 0.3795 - acc: 0.8469 - val_loss: 0.3477 - val_acc: 0.8600\n",
      "Epoch 54/200\n",
      " - 0s - loss: 0.3853 - acc: 0.8447 - val_loss: 0.3483 - val_acc: 0.8650\n",
      "Epoch 55/200\n",
      " - 0s - loss: 0.3800 - acc: 0.8428 - val_loss: 0.3471 - val_acc: 0.8612\n",
      "Epoch 56/200\n",
      " - 0s - loss: 0.3811 - acc: 0.8443 - val_loss: 0.3476 - val_acc: 0.8650\n",
      "Epoch 57/200\n",
      " - 0s - loss: 0.3776 - acc: 0.8492 - val_loss: 0.3486 - val_acc: 0.8588\n",
      "Epoch 58/200\n",
      " - 0s - loss: 0.3798 - acc: 0.8478 - val_loss: 0.3482 - val_acc: 0.8575\n",
      "Epoch 59/200\n",
      " - 0s - loss: 0.3742 - acc: 0.8472 - val_loss: 0.3476 - val_acc: 0.8588\n",
      "Epoch 60/200\n",
      " - 0s - loss: 0.3819 - acc: 0.8449 - val_loss: 0.3480 - val_acc: 0.8562\n",
      "Epoch 61/200\n",
      " - 0s - loss: 0.3811 - acc: 0.8443 - val_loss: 0.3471 - val_acc: 0.8588\n",
      "Epoch 62/200\n",
      " - 0s - loss: 0.3770 - acc: 0.8468 - val_loss: 0.3476 - val_acc: 0.8650\n",
      "Epoch 63/200\n",
      " - 0s - loss: 0.3762 - acc: 0.8468 - val_loss: 0.3465 - val_acc: 0.8612\n",
      "Epoch 64/200\n",
      " - 0s - loss: 0.3778 - acc: 0.8472 - val_loss: 0.3472 - val_acc: 0.8612\n",
      "Epoch 65/200\n",
      " - 0s - loss: 0.3826 - acc: 0.8486 - val_loss: 0.3476 - val_acc: 0.8600\n",
      "Epoch 66/200\n",
      " - 0s - loss: 0.3808 - acc: 0.8468 - val_loss: 0.3480 - val_acc: 0.8600\n",
      "Epoch 67/200\n",
      " - 0s - loss: 0.3815 - acc: 0.8440 - val_loss: 0.3480 - val_acc: 0.8612\n",
      "Epoch 68/200\n",
      " - 0s - loss: 0.3831 - acc: 0.8446 - val_loss: 0.3470 - val_acc: 0.8550\n",
      "Epoch 69/200\n",
      " - 0s - loss: 0.3794 - acc: 0.8461 - val_loss: 0.3467 - val_acc: 0.8588\n",
      "Epoch 70/200\n",
      " - 0s - loss: 0.3825 - acc: 0.8422 - val_loss: 0.3468 - val_acc: 0.8600\n",
      "Epoch 71/200\n",
      " - 0s - loss: 0.3793 - acc: 0.8458 - val_loss: 0.3465 - val_acc: 0.8600\n",
      "Epoch 72/200\n",
      " - 0s - loss: 0.3771 - acc: 0.8476 - val_loss: 0.3470 - val_acc: 0.8612\n",
      "Epoch 73/200\n",
      " - 0s - loss: 0.3769 - acc: 0.8464 - val_loss: 0.3462 - val_acc: 0.8662\n",
      "Epoch 74/200\n",
      " - 0s - loss: 0.3811 - acc: 0.8468 - val_loss: 0.3461 - val_acc: 0.8588\n",
      "Epoch 75/200\n",
      " - 0s - loss: 0.3793 - acc: 0.8469 - val_loss: 0.3465 - val_acc: 0.8562\n",
      "Epoch 76/200\n",
      " - 0s - loss: 0.3781 - acc: 0.8451 - val_loss: 0.3457 - val_acc: 0.8575\n",
      "Epoch 77/200\n",
      " - 0s - loss: 0.3830 - acc: 0.8436 - val_loss: 0.3469 - val_acc: 0.8612\n",
      "Epoch 78/200\n",
      " - 0s - loss: 0.3807 - acc: 0.8467 - val_loss: 0.3457 - val_acc: 0.8575\n",
      "Epoch 79/200\n",
      " - 0s - loss: 0.3771 - acc: 0.8497 - val_loss: 0.3460 - val_acc: 0.8600\n",
      "Epoch 80/200\n",
      " - 0s - loss: 0.3775 - acc: 0.8475 - val_loss: 0.3458 - val_acc: 0.8625\n",
      "Epoch 81/200\n",
      " - 0s - loss: 0.3788 - acc: 0.8471 - val_loss: 0.3462 - val_acc: 0.8638\n",
      "Epoch 82/200\n",
      " - 0s - loss: 0.3790 - acc: 0.8471 - val_loss: 0.3463 - val_acc: 0.8550\n",
      "Epoch 83/200\n",
      " - 0s - loss: 0.3786 - acc: 0.8460 - val_loss: 0.3468 - val_acc: 0.8612\n",
      "Epoch 84/200\n",
      " - 0s - loss: 0.3828 - acc: 0.8417 - val_loss: 0.3467 - val_acc: 0.8588\n",
      "Epoch 85/200\n",
      " - 0s - loss: 0.3846 - acc: 0.8433 - val_loss: 0.3471 - val_acc: 0.8600\n",
      "Epoch 86/200\n",
      " - 0s - loss: 0.3729 - acc: 0.8493 - val_loss: 0.3468 - val_acc: 0.8612\n",
      "Epoch 87/200\n",
      " - 0s - loss: 0.3813 - acc: 0.8492 - val_loss: 0.3466 - val_acc: 0.8612\n",
      "Epoch 88/200\n",
      " - 0s - loss: 0.3840 - acc: 0.8461 - val_loss: 0.3464 - val_acc: 0.8600\n",
      "Epoch 89/200\n",
      " - 0s - loss: 0.3808 - acc: 0.8476 - val_loss: 0.3474 - val_acc: 0.8625\n",
      "Epoch 90/200\n",
      " - 0s - loss: 0.3781 - acc: 0.8450 - val_loss: 0.3469 - val_acc: 0.8600\n",
      "Epoch 91/200\n",
      " - 0s - loss: 0.3803 - acc: 0.8482 - val_loss: 0.3469 - val_acc: 0.8600\n",
      "Epoch 92/200\n",
      " - 0s - loss: 0.3820 - acc: 0.8451 - val_loss: 0.3467 - val_acc: 0.8625\n",
      "Epoch 93/200\n",
      " - 0s - loss: 0.3816 - acc: 0.8469 - val_loss: 0.3464 - val_acc: 0.8612\n",
      "Epoch 94/200\n",
      " - 0s - loss: 0.3828 - acc: 0.8456 - val_loss: 0.3467 - val_acc: 0.8612\n",
      "Epoch 95/200\n",
      " - 0s - loss: 0.3773 - acc: 0.8476 - val_loss: 0.3469 - val_acc: 0.8638\n",
      "Epoch 96/200\n",
      " - 0s - loss: 0.3759 - acc: 0.8489 - val_loss: 0.3461 - val_acc: 0.8588\n",
      "Epoch 97/200\n",
      " - 0s - loss: 0.3787 - acc: 0.8474 - val_loss: 0.3453 - val_acc: 0.8625\n",
      "Epoch 98/200\n",
      " - 0s - loss: 0.3817 - acc: 0.8458 - val_loss: 0.3461 - val_acc: 0.8650\n",
      "Epoch 99/200\n",
      " - 0s - loss: 0.3771 - acc: 0.8474 - val_loss: 0.3463 - val_acc: 0.8612\n",
      "Epoch 100/200\n",
      " - 0s - loss: 0.3774 - acc: 0.8451 - val_loss: 0.3462 - val_acc: 0.8638\n",
      "Epoch 101/200\n",
      " - 0s - loss: 0.3812 - acc: 0.8453 - val_loss: 0.3449 - val_acc: 0.8612\n",
      "Epoch 102/200\n",
      " - 0s - loss: 0.3753 - acc: 0.8469 - val_loss: 0.3453 - val_acc: 0.8625\n",
      "Epoch 103/200\n",
      " - 0s - loss: 0.3810 - acc: 0.8499 - val_loss: 0.3444 - val_acc: 0.8625\n",
      "Epoch 104/200\n",
      " - 0s - loss: 0.3779 - acc: 0.8461 - val_loss: 0.3446 - val_acc: 0.8612\n",
      "Epoch 105/200\n",
      " - 0s - loss: 0.3784 - acc: 0.8456 - val_loss: 0.3461 - val_acc: 0.8675\n",
      "Epoch 106/200\n",
      " - 0s - loss: 0.3788 - acc: 0.8465 - val_loss: 0.3449 - val_acc: 0.8638\n",
      "Epoch 107/200\n",
      " - 0s - loss: 0.3777 - acc: 0.8489 - val_loss: 0.3443 - val_acc: 0.8662\n",
      "Epoch 108/200\n",
      " - 0s - loss: 0.3792 - acc: 0.8474 - val_loss: 0.3455 - val_acc: 0.8662\n",
      "Epoch 109/200\n",
      " - 0s - loss: 0.3769 - acc: 0.8472 - val_loss: 0.3449 - val_acc: 0.8662\n",
      "Epoch 110/200\n",
      " - 0s - loss: 0.3753 - acc: 0.8476 - val_loss: 0.3455 - val_acc: 0.8662\n",
      "Epoch 111/200\n",
      " - 0s - loss: 0.3848 - acc: 0.8478 - val_loss: 0.3452 - val_acc: 0.8650\n",
      "Epoch 112/200\n",
      " - 0s - loss: 0.3760 - acc: 0.8485 - val_loss: 0.3449 - val_acc: 0.8650\n",
      "Epoch 113/200\n",
      " - 0s - loss: 0.3768 - acc: 0.8450 - val_loss: 0.3444 - val_acc: 0.8662\n",
      "Epoch 114/200\n",
      " - 0s - loss: 0.3823 - acc: 0.8447 - val_loss: 0.3450 - val_acc: 0.8638\n",
      "Epoch 115/200\n",
      " - 0s - loss: 0.3796 - acc: 0.8442 - val_loss: 0.3452 - val_acc: 0.8662\n",
      "Epoch 116/200\n",
      " - 0s - loss: 0.3766 - acc: 0.8453 - val_loss: 0.3442 - val_acc: 0.8662\n",
      "Epoch 117/200\n",
      " - 0s - loss: 0.3733 - acc: 0.8489 - val_loss: 0.3432 - val_acc: 0.8662\n",
      "Epoch 118/200\n",
      " - 0s - loss: 0.3819 - acc: 0.8449 - val_loss: 0.3439 - val_acc: 0.8688\n",
      "Epoch 119/200\n",
      " - 0s - loss: 0.3771 - acc: 0.8474 - val_loss: 0.3429 - val_acc: 0.8712\n",
      "Epoch 120/200\n",
      " - 0s - loss: 0.3785 - acc: 0.8457 - val_loss: 0.3435 - val_acc: 0.8688\n",
      "Epoch 121/200\n",
      " - 0s - loss: 0.3773 - acc: 0.8481 - val_loss: 0.3433 - val_acc: 0.8675\n",
      "Epoch 122/200\n",
      " - 0s - loss: 0.3777 - acc: 0.8451 - val_loss: 0.3433 - val_acc: 0.8662\n",
      "Epoch 123/200\n",
      " - 0s - loss: 0.3774 - acc: 0.8479 - val_loss: 0.3444 - val_acc: 0.8662\n",
      "Epoch 124/200\n",
      " - 0s - loss: 0.3749 - acc: 0.8501 - val_loss: 0.3437 - val_acc: 0.8688\n",
      "Epoch 125/200\n",
      " - 0s - loss: 0.3759 - acc: 0.8465 - val_loss: 0.3426 - val_acc: 0.8662\n",
      "Epoch 126/200\n",
      " - 0s - loss: 0.3807 - acc: 0.8456 - val_loss: 0.3433 - val_acc: 0.8650\n",
      "Epoch 127/200\n",
      " - 0s - loss: 0.3817 - acc: 0.8436 - val_loss: 0.3442 - val_acc: 0.8662\n",
      "Epoch 128/200\n",
      " - 0s - loss: 0.3807 - acc: 0.8449 - val_loss: 0.3438 - val_acc: 0.8700\n",
      "Epoch 129/200\n",
      " - 0s - loss: 0.3797 - acc: 0.8453 - val_loss: 0.3440 - val_acc: 0.8675\n",
      "Epoch 130/200\n",
      " - 0s - loss: 0.3828 - acc: 0.8429 - val_loss: 0.3445 - val_acc: 0.8712\n",
      "Epoch 131/200\n",
      " - 0s - loss: 0.3765 - acc: 0.8474 - val_loss: 0.3429 - val_acc: 0.8675\n",
      "Epoch 132/200\n",
      " - 0s - loss: 0.3817 - acc: 0.8457 - val_loss: 0.3429 - val_acc: 0.8688\n",
      "Epoch 133/200\n",
      " - 0s - loss: 0.3764 - acc: 0.8469 - val_loss: 0.3421 - val_acc: 0.8700\n",
      "Epoch 134/200\n",
      " - 0s - loss: 0.3772 - acc: 0.8446 - val_loss: 0.3417 - val_acc: 0.8700\n",
      "Epoch 135/200\n",
      " - 0s - loss: 0.3796 - acc: 0.8444 - val_loss: 0.3428 - val_acc: 0.8662\n",
      "Epoch 136/200\n",
      " - 0s - loss: 0.3782 - acc: 0.8475 - val_loss: 0.3434 - val_acc: 0.8700\n",
      "Epoch 137/200\n",
      " - 0s - loss: 0.3758 - acc: 0.8456 - val_loss: 0.3428 - val_acc: 0.8725\n",
      "Epoch 138/200\n",
      " - 0s - loss: 0.3745 - acc: 0.8492 - val_loss: 0.3418 - val_acc: 0.8750\n",
      "Epoch 139/200\n",
      " - 0s - loss: 0.3739 - acc: 0.8482 - val_loss: 0.3425 - val_acc: 0.8688\n",
      "Epoch 140/200\n",
      " - 0s - loss: 0.3783 - acc: 0.8483 - val_loss: 0.3428 - val_acc: 0.8725\n",
      "Epoch 141/200\n",
      " - 0s - loss: 0.3797 - acc: 0.8456 - val_loss: 0.3425 - val_acc: 0.8712\n",
      "Epoch 142/200\n",
      " - 0s - loss: 0.3785 - acc: 0.8456 - val_loss: 0.3421 - val_acc: 0.8712\n",
      "Epoch 143/200\n",
      " - 0s - loss: 0.3744 - acc: 0.8474 - val_loss: 0.3419 - val_acc: 0.8738\n",
      "Epoch 144/200\n",
      " - 0s - loss: 0.3735 - acc: 0.8481 - val_loss: 0.3423 - val_acc: 0.8725\n",
      "Epoch 145/200\n",
      " - 0s - loss: 0.3804 - acc: 0.8468 - val_loss: 0.3422 - val_acc: 0.8738\n",
      "Epoch 146/200\n",
      " - 0s - loss: 0.3815 - acc: 0.8458 - val_loss: 0.3434 - val_acc: 0.8725\n",
      "Epoch 147/200\n",
      " - 0s - loss: 0.3776 - acc: 0.8483 - val_loss: 0.3423 - val_acc: 0.8675\n",
      "Epoch 148/200\n",
      " - 0s - loss: 0.3818 - acc: 0.8440 - val_loss: 0.3437 - val_acc: 0.8712\n",
      "Epoch 149/200\n",
      " - 0s - loss: 0.3795 - acc: 0.8439 - val_loss: 0.3414 - val_acc: 0.8712\n",
      "Epoch 150/200\n",
      " - 0s - loss: 0.3747 - acc: 0.8464 - val_loss: 0.3412 - val_acc: 0.8725\n",
      "Epoch 151/200\n",
      " - 0s - loss: 0.3745 - acc: 0.8499 - val_loss: 0.3418 - val_acc: 0.8725\n",
      "Epoch 152/200\n",
      " - 0s - loss: 0.3771 - acc: 0.8500 - val_loss: 0.3428 - val_acc: 0.8700\n",
      "Epoch 153/200\n",
      " - 0s - loss: 0.3816 - acc: 0.8450 - val_loss: 0.3423 - val_acc: 0.8712\n",
      "Epoch 154/200\n",
      " - 0s - loss: 0.3804 - acc: 0.8454 - val_loss: 0.3421 - val_acc: 0.8712\n",
      "Epoch 155/200\n",
      " - 0s - loss: 0.3786 - acc: 0.8469 - val_loss: 0.3427 - val_acc: 0.8738\n",
      "Epoch 156/200\n",
      " - 0s - loss: 0.3777 - acc: 0.8474 - val_loss: 0.3418 - val_acc: 0.8712\n",
      "Epoch 157/200\n",
      " - 0s - loss: 0.3729 - acc: 0.8447 - val_loss: 0.3411 - val_acc: 0.8712\n",
      "Epoch 158/200\n",
      " - 0s - loss: 0.3832 - acc: 0.8435 - val_loss: 0.3413 - val_acc: 0.8712\n",
      "Epoch 159/200\n",
      " - 0s - loss: 0.3751 - acc: 0.8472 - val_loss: 0.3404 - val_acc: 0.8712\n",
      "Epoch 160/200\n",
      " - 0s - loss: 0.3732 - acc: 0.8482 - val_loss: 0.3416 - val_acc: 0.8688\n",
      "Epoch 161/200\n",
      " - 0s - loss: 0.3774 - acc: 0.8468 - val_loss: 0.3410 - val_acc: 0.8738\n",
      "Epoch 162/200\n",
      " - 0s - loss: 0.3803 - acc: 0.8460 - val_loss: 0.3423 - val_acc: 0.8725\n",
      "Epoch 163/200\n",
      " - 0s - loss: 0.3760 - acc: 0.8476 - val_loss: 0.3416 - val_acc: 0.8700\n",
      "Epoch 164/200\n",
      " - 0s - loss: 0.3751 - acc: 0.8476 - val_loss: 0.3410 - val_acc: 0.8738\n",
      "Epoch 165/200\n",
      " - 0s - loss: 0.3788 - acc: 0.8471 - val_loss: 0.3417 - val_acc: 0.8712\n",
      "Epoch 166/200\n",
      " - 0s - loss: 0.3709 - acc: 0.8456 - val_loss: 0.3410 - val_acc: 0.8725\n",
      "Epoch 167/200\n",
      " - 0s - loss: 0.3774 - acc: 0.8475 - val_loss: 0.3408 - val_acc: 0.8725\n",
      "Epoch 168/200\n",
      " - 0s - loss: 0.3768 - acc: 0.8444 - val_loss: 0.3404 - val_acc: 0.8725\n",
      "Epoch 169/200\n",
      " - 0s - loss: 0.3801 - acc: 0.8456 - val_loss: 0.3415 - val_acc: 0.8700\n",
      "Epoch 170/200\n",
      " - 0s - loss: 0.3752 - acc: 0.8465 - val_loss: 0.3399 - val_acc: 0.8700\n",
      "Epoch 171/200\n",
      " - 0s - loss: 0.3759 - acc: 0.8464 - val_loss: 0.3403 - val_acc: 0.8725\n",
      "Epoch 172/200\n",
      " - 0s - loss: 0.3748 - acc: 0.8467 - val_loss: 0.3407 - val_acc: 0.8725\n",
      "Epoch 173/200\n",
      " - 0s - loss: 0.3799 - acc: 0.8439 - val_loss: 0.3412 - val_acc: 0.8750\n",
      "Epoch 174/200\n",
      " - 0s - loss: 0.3702 - acc: 0.8486 - val_loss: 0.3401 - val_acc: 0.8700\n",
      "Epoch 175/200\n",
      " - 0s - loss: 0.3773 - acc: 0.8471 - val_loss: 0.3395 - val_acc: 0.8738\n",
      "Epoch 176/200\n",
      " - 0s - loss: 0.3759 - acc: 0.8465 - val_loss: 0.3398 - val_acc: 0.8750\n",
      "Epoch 177/200\n",
      " - 0s - loss: 0.3781 - acc: 0.8447 - val_loss: 0.3403 - val_acc: 0.8725\n",
      "Epoch 178/200\n",
      " - 0s - loss: 0.3766 - acc: 0.8465 - val_loss: 0.3403 - val_acc: 0.8725\n",
      "Epoch 179/200\n",
      " - 0s - loss: 0.3767 - acc: 0.8451 - val_loss: 0.3407 - val_acc: 0.8712\n",
      "Epoch 180/200\n",
      " - 0s - loss: 0.3775 - acc: 0.8471 - val_loss: 0.3409 - val_acc: 0.8750\n",
      "Epoch 181/200\n",
      " - 0s - loss: 0.3780 - acc: 0.8460 - val_loss: 0.3409 - val_acc: 0.8738\n",
      "Epoch 182/200\n",
      " - 0s - loss: 0.3747 - acc: 0.8453 - val_loss: 0.3401 - val_acc: 0.8750\n",
      "Epoch 183/200\n",
      " - 0s - loss: 0.3808 - acc: 0.8488 - val_loss: 0.3405 - val_acc: 0.8738\n",
      "Epoch 184/200\n",
      " - 0s - loss: 0.3767 - acc: 0.8464 - val_loss: 0.3405 - val_acc: 0.8750\n",
      "Epoch 185/200\n",
      " - 0s - loss: 0.3728 - acc: 0.8469 - val_loss: 0.3403 - val_acc: 0.8725\n",
      "Epoch 186/200\n",
      " - 0s - loss: 0.3766 - acc: 0.8475 - val_loss: 0.3409 - val_acc: 0.8750\n",
      "Epoch 187/200\n",
      " - 0s - loss: 0.3754 - acc: 0.8493 - val_loss: 0.3400 - val_acc: 0.8662\n",
      "Epoch 188/200\n",
      " - 0s - loss: 0.3796 - acc: 0.8468 - val_loss: 0.3401 - val_acc: 0.8725\n",
      "Epoch 189/200\n",
      " - 0s - loss: 0.3756 - acc: 0.8454 - val_loss: 0.3403 - val_acc: 0.8712\n",
      "Epoch 190/200\n",
      " - 0s - loss: 0.3768 - acc: 0.8475 - val_loss: 0.3397 - val_acc: 0.8750\n",
      "Epoch 191/200\n",
      " - 0s - loss: 0.3789 - acc: 0.8444 - val_loss: 0.3404 - val_acc: 0.8738\n",
      "Epoch 192/200\n",
      " - 0s - loss: 0.3769 - acc: 0.8458 - val_loss: 0.3400 - val_acc: 0.8688\n",
      "Epoch 193/200\n",
      " - 0s - loss: 0.3784 - acc: 0.8493 - val_loss: 0.3398 - val_acc: 0.8712\n",
      "Epoch 194/200\n",
      " - 0s - loss: 0.3756 - acc: 0.8494 - val_loss: 0.3403 - val_acc: 0.8712\n",
      "Epoch 195/200\n",
      " - 0s - loss: 0.3826 - acc: 0.8417 - val_loss: 0.3408 - val_acc: 0.8725\n",
      "Epoch 196/200\n",
      " - 0s - loss: 0.3754 - acc: 0.8515 - val_loss: 0.3406 - val_acc: 0.8700\n",
      "Epoch 197/200\n",
      " - 0s - loss: 0.3748 - acc: 0.8485 - val_loss: 0.3408 - val_acc: 0.8738\n",
      "Epoch 198/200\n",
      " - 0s - loss: 0.3768 - acc: 0.8469 - val_loss: 0.3410 - val_acc: 0.8762\n",
      "Epoch 199/200\n",
      " - 0s - loss: 0.3746 - acc: 0.8472 - val_loss: 0.3400 - val_acc: 0.8712\n",
      "Epoch 200/200\n",
      " - 0s - loss: 0.3770 - acc: 0.8479 - val_loss: 0.3399 - val_acc: 0.8788\n"
     ]
    }
   ],
   "source": [
    "history = classifier.fit(X_train, y_train, batch_size=32, epochs=200, validation_split=0.1, verbose=2)"
   ]
  },
  {
   "cell_type": "markdown",
   "metadata": {
    "_cell_guid": "e4bc3339-634c-4343-9bf3-e5fe86be5b21",
    "_uuid": "05146ba8ae06c97f679d19c7785e34fc301a4146"
   },
   "source": [
    "The output network should converge to an accuracy of around 85%\n",
    "## Testing the NN\n",
    "### Predicting the Test set results\n",
    "\n",
    "This shows the probability of a customer leaving given the testing data. Each row in X_test corresponds to a row in Y_test"
   ]
  },
  {
   "cell_type": "code",
   "execution_count": 20,
   "metadata": {},
   "outputs": [
    {
     "data": {
      "image/png": "[encoded data removed]",
      "text/plain": [
       "<Figure size 432x288 with 1 Axes>"
      ]
     },
     "metadata": {},
     "output_type": "display_data"
    }
   ],
   "source": [
    "plt.plot(np.array(history.history['acc']) * 100)\n",
    "plt.plot(np.array(history.history['val_acc']) * 100)\n",
    "plt.ylabel('accuracy')\n",
    "plt.xlabel('epochs')\n",
    "plt.legend(['train', 'validation'])\n",
    "plt.title('Accuracy over epochs')\n",
    "plt.show()"
   ]
  },
  {
   "cell_type": "code",
   "execution_count": 21,
   "metadata": {
    "_cell_guid": "b8414c74-b1d9-4171-9f01-6b1b2d642c0e",
    "_uuid": "c6f9748ac1c12e6786615c664e4fae7d34238dd5"
   },
   "outputs": [
    {
     "name": "stdout",
     "output_type": "stream",
     "text": [
      "[[0.2788993 ]\n",
      " [0.42713052]\n",
      " [0.17558068]\n",
      " [0.0720844 ]\n",
      " [0.09354061]]\n"
     ]
    }
   ],
   "source": [
    "y_pred = classifier.predict(X_test)\n",
    "print(y_pred[:5])"
   ]
  },
  {
   "cell_type": "markdown",
   "metadata": {
    "_cell_guid": "dadcf0b3-ec7d-496a-b9ee-733f74d147a0",
    "_uuid": "d114142f9b8006cd824e5321d973b410cf1f8242"
   },
   "source": [
    "To use the confusion Matrix, we need to convert the probabilities that a customer will leave the bank into the form true or false. So we will use the cutoff value 0.5 to indicate whether they are likely to exit or not."
   ]
  },
  {
   "cell_type": "code",
   "execution_count": 22,
   "metadata": {},
   "outputs": [
    {
     "name": "stdout",
     "output_type": "stream",
     "text": [
      "[[0]\n",
      " [0]\n",
      " [0]\n",
      " [0]\n",
      " [0]]\n"
     ]
    }
   ],
   "source": [
    "y_pred = (y_pred > 0.5).astype(int)\n",
    "print(y_pred[:5])"
   ]
  },
  {
   "cell_type": "markdown",
   "metadata": {
    "_cell_guid": "b8881ad3-48e7-431b-a542-94cd2660cfbd",
    "_uuid": "6237093831507136636bade49c4349277ab63c6a"
   },
   "source": [
    "### Making the Confusion Matrix"
   ]
  },
  {
   "cell_type": "code",
   "execution_count": 23,
   "metadata": {
    "_cell_guid": "358df9a9-dade-46b7-a9bc-dafc280a7adc",
    "_uuid": "f436bf213e921eb5b6737fcd7eb1b4224fe34426"
   },
   "outputs": [
    {
     "name": "stdout",
     "output_type": "stream",
     "text": [
      "[[1530   65]\n",
      " [ 221  184]]\n"
     ]
    }
   ],
   "source": [
    "from sklearn.metrics import confusion_matrix\n",
    "cm = confusion_matrix(y_test, y_pred)\n",
    "print(cm)"
   ]
  },
  {
   "cell_type": "markdown",
   "metadata": {},
   "source": [
    "### Significance of the confusion matrix value:\n",
    "\n",
    "The output should be close to the table below:\n",
    "\n",
    "||Predicted: No |Predicted: Yes|\n",
    " |------| |------|   |------|  \n",
    " |Actual: No|1504|91|\n",
    "|Actual: Yes|184|221\n"
   ]
  },
  {
   "cell_type": "markdown",
   "metadata": {},
   "source": [
    "This means that we should have about $(1504 + 221) = 1726$ correct classifications out of our total testing data size of $2000$.\n",
    "This means that our accuracy for this trial was $1726 \\div 2000 = 86.3\\%$, which matches the classifier's prediction"
   ]
  },
  {
   "cell_type": "code",
   "execution_count": 24,
   "metadata": {},
   "outputs": [
    {
     "name": "stdout",
     "output_type": "stream",
     "text": [
      "85.7 % of testing data was classified correctly\n"
     ]
    }
   ],
   "source": [
    "print (((cm[0][0]+cm[1][1])*100)/(len(y_test)), '% of testing data was classified correctly')"
   ]
  }
 ],
 "metadata": {
  "kernelspec": {
   "display_name": "Python 3",
   "language": "python",
   "name": "python3"
  },
  "language_info": {
   "codemirror_mode": {
    "name": "ipython",
    "version": 3
   },
   "file_extension": ".py",
   "mimetype": "text/x-python",
   "name": "python",
   "nbconvert_exporter": "python",
   "pygments_lexer": "ipython3",
   "version": "3.6.4"
  }
 },
 "nbformat": 4,
 "nbformat_minor": 1
}
